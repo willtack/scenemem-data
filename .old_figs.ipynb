{
 "cells": [
  {
   "cell_type": "code",
   "execution_count": 1,
   "metadata": {},
   "outputs": [],
   "source": [
    "import numpy as np\n",
    "import pandas as pd \n",
    "from matplotlib import pyplot as plt\n",
    "import seaborn as sns\n",
    "from IPython.display import display, HTML\n",
    "%matplotlib inline"
   ]
  },
  {
   "cell_type": "code",
   "execution_count": 2,
   "metadata": {},
   "outputs": [],
   "source": [
    "cat_list = ['left temporal', 'right temporal', 'left neocortical', 'right neocortical']\n",
    "df = pd.read_csv('old_dataset/scenemem_omit.csv')\n",
    "df2 = df.loc[df['Type'].isin(cat_list)]"
   ]
  },
  {
   "cell_type": "code",
   "execution_count": 3,
   "metadata": {},
   "outputs": [
    {
     "data": {
      "text/plain": [
       "<Figure size 864x648 with 0 Axes>"
      ]
     },
     "execution_count": 3,
     "metadata": {},
     "output_type": "execute_result"
    },
    {
     "data": {
      "text/plain": [
       "<Figure size 864x648 with 0 Axes>"
      ]
     },
     "metadata": {},
     "output_type": "display_data"
    }
   ],
   "source": [
    "sns.set_style(\"whitegrid\")\n",
    "type_palette = sns.diverging_palette(255, 133, l=60, n=2, center=\"dark\")\n",
    "#plt.figure(figsize=(12,9))\n",
    "# ax = sns.barplot(x='Type', y='Hippocampus LI', data=df2, order=cat_list, palette=type_palette)\n",
    "# ax = sns.swarmplot(x='Type', y='Hippocampus LI', data=df2, color=\".25\", order=cat_list)"
   ]
  },
  {
   "cell_type": "code",
   "execution_count": 4,
   "metadata": {},
   "outputs": [
    {
     "data": {
      "text/plain": [
       "<Figure size 864x648 with 0 Axes>"
      ]
     },
     "metadata": {},
     "output_type": "display_data"
    }
   ],
   "source": [
    "sns.set_style(\"whitegrid\")\n",
    "#plt.figure(figsize=(12,9))\n",
    "#side_palette = sns.diverging_palette(255, 133, l=60, n=3, center=\"dark\")\n",
    "# ax = sns.barplot(x='Side', y='Hippocampus LI', data=df, palette=side_palette)\n",
    "# ax = sns.swarmplot(x='Side', y='Hippocampus LI', data=df, color=\".25\")"
   ]
  }
 ],
 "metadata": {
  "kernelspec": {
   "display_name": "Python 3",
   "language": "python",
   "name": "python3"
  },
  "language_info": {
   "codemirror_mode": {
    "name": "ipython",
    "version": 3
   },
   "file_extension": ".py",
   "mimetype": "text/x-python",
   "name": "python",
   "nbconvert_exporter": "python",
   "pygments_lexer": "ipython3",
   "version": "3.7.3"
  }
 },
 "nbformat": 4,
 "nbformat_minor": 2
}
